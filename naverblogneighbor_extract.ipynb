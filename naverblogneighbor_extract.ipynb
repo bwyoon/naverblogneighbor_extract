{
 "cells": [
  {
   "cell_type": "code",
   "execution_count": null,
   "metadata": {},
   "outputs": [],
   "source": [
    "from selenium import webdriver\n",
    "\n",
    "browser = webdriver.Chrome(executable_path=r'c:/APPS/chromedriver.exe')\n",
    "userid = \"xxxxxxxx\"  # <== 네이버 아이디를 입력하세요.\n",
    "url = \"https://admin.blog.naver.com/%s\" % userid\n",
    "browser.get(url)\n",
    "\n",
    "# 이 쎌을 실행한 후 네이버 로그인 창이 뜨면 로그인합니다."
   ]
  },
  {
   "cell_type": "code",
   "execution_count": null,
   "metadata": {},
   "outputs": [],
   "source": [
    "import re\n",
    "\n",
    "filetosave = \"neighbors.txt\"\n",
    "f = open(filetosave, \"w\")\n",
    "\n",
    "pagecount = 100  # 총페이지수 = 나를 추가한 이웃 수 / 50; 올림으로 계산\n",
    "for page in range(1, pagecount+1):\n",
    "    url=\"https://admin.blog.naver.com/BuddyMeManage.nhn?relation=all&blogId=%s&currentPage=%d\" % (userid, page)\n",
    "    browser.get(url)\n",
    "    innerHTML = browser.execute_script(\"return document.body.innerHTML\")\n",
    "    htmls = innerHTML.split(\"\\n\")\n",
    "    for line in htmls:\n",
    "        searchobj = re.search(r'\"https://blog.naver.com/[^/]*\"', line)\n",
    "        if searchobj:\n",
    "            id = re.sub(r'.*https://blog.naver.com/([^\"]*)\".*', r'\\1', line)\n",
    "            f.write(\"%s\\n\" % id)\n",
    "    print(\".\", end='')\n",
    "f.close()"
   ]
  }
 ],
 "metadata": {
  "kernelspec": {
   "display_name": "Python 3",
   "language": "python",
   "name": "python3"
  },
  "language_info": {
   "codemirror_mode": {
    "name": "ipython",
    "version": 3
   },
   "file_extension": ".py",
   "mimetype": "text/x-python",
   "name": "python",
   "nbconvert_exporter": "python",
   "pygments_lexer": "ipython3",
   "version": "3.6.5"
  }
 },
 "nbformat": 4,
 "nbformat_minor": 2
}
